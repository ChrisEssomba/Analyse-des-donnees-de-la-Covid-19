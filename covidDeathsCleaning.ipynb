{
  "metadata": {
    "language_info": {
      "codemirror_mode": {
        "name": "python",
        "version": 3
      },
      "file_extension": ".py",
      "mimetype": "text/x-python",
      "name": "python",
      "nbconvert_exporter": "python",
      "pygments_lexer": "ipython3",
      "version": "3.8"
    },
    "kernelspec": {
      "name": "python",
      "display_name": "Python (Pyodide)",
      "language": "python"
    }
  },
  "nbformat_minor": 4,
  "nbformat": 4,
  "cells": [
    {
      "cell_type": "markdown",
      "source": "#                                                       L'ETAPE 1 DE CE PROJET CONSISTE AU NETOYAGE DE NOTRE BASE DE DONNEES\n\n\n\n\n",
      "metadata": {}
    },
    {
      "cell_type": "code",
      "source": "#Importer les packages\nimport pandas as pd #Permet de mettre les données dans un dataframe et de les manipuler\nimport numpy as np ",
      "metadata": {
        "trusted": true
      },
      "execution_count": 1,
      "outputs": []
    },
    {
      "cell_type": "code",
      "source": "#Importer la base de donnée\n#Pour cela tu uplot le fichier et ensuite tu copie son nom et tu le met dans le fonction\ndf = pd.read_csv('coviddeaths.csv', sep=';')\ndf",
      "metadata": {
        "trusted": true
      },
      "execution_count": 2,
      "outputs": [
        {
          "execution_count": 2,
          "output_type": "execute_result",
          "data": {
            "text/plain": "        iso_code      continent   location        date    population  \\\n0            ABW  North America      Aruba  12/05/2023  1.064590e+05   \n1       OWID_ASI            NaN       Asia  12/05/2023  4.721383e+09   \n2            AUT         Europe    Austria  12/05/2023  8.939617e+06   \n3            BGR         Europe   Bulgaria  12/05/2023  6.781955e+06   \n4            CHL  South America      Chile  12/05/2023  1.960374e+07   \n...          ...            ...        ...         ...           ...   \n309634       ZWE         Africa   Zimbabwe  03/01/2020  1.632054e+07   \n309635       ARG  South America  Argentina  02/01/2020  4.551032e+07   \n309636       MEX  North America     Mexico  02/01/2020  1.275041e+08   \n309637       ARG  South America  Argentina  01/01/2020  4.551032e+07   \n309638       MEX  North America     Mexico  01/01/2020  1.275041e+08   \n\n        total_cases  new_cases_smoothed  total_deaths  new_deaths  \\\n0               NaN                 NaN           NaN         NaN   \n1               NaN                 NaN           NaN         NaN   \n2               NaN                 NaN           NaN         NaN   \n3               NaN                 NaN           NaN         NaN   \n4               NaN                 NaN           NaN         NaN   \n...             ...                 ...           ...         ...   \n309634          NaN                 NaN           NaN         0.0   \n309635          NaN                 NaN           NaN         NaN   \n309636          NaN                 NaN           NaN         NaN   \n309637          NaN                 NaN           NaN         NaN   \n309638          NaN                 NaN           NaN         NaN   \n\n        new_deaths_smoothed  ...  positive_rate  population_density  \\\n0                       NaN  ...            NaN             584.800   \n1                       NaN  ...            NaN                 NaN   \n2                       NaN  ...            NaN             106.749   \n3                       NaN  ...            NaN              65.180   \n4                       NaN  ...            NaN              24.282   \n...                     ...  ...            ...                 ...   \n309634                  NaN  ...            NaN              42.729   \n309635                  NaN  ...            NaN              16.177   \n309636                  NaN  ...            NaN              66.444   \n309637                  NaN  ...            NaN              16.177   \n309638                  NaN  ...            NaN              66.444   \n\n        aged_65_older  diabetes_prevalence  female_smokers  male_smokers  \\\n0              13.085                11.62             NaN           NaN   \n1                 NaN                  NaN             NaN           NaN   \n2              19.202                 6.35            28.4          30.9   \n3              20.801                 5.81            30.1          44.4   \n4              11.087                 8.46            34.2          41.5   \n...               ...                  ...             ...           ...   \n309634          2.822                 1.82             1.6          30.7   \n309635         11.198                 5.50            16.2          27.7   \n309636          6.857                13.06             6.9          21.4   \n309637         11.198                 5.50            16.2          27.7   \n309638          6.857                13.06             6.9          21.4   \n\n        life_expectancy  new_cases  median_age  hospital_beds_per_thousand  \n0                 76.29        NaN        18.6                         NaN  \n1                   NaN        NaN        18.6                         NaN  \n2                 81.54        NaN        18.6                       7.370  \n3                 75.05        NaN        18.6                       7.454  \n4                 80.18        NaN        18.6                       2.110  \n...                 ...        ...         ...                         ...  \n309634            61.49        0.0        19.6                       1.700  \n309635            76.67        NaN        19.6                       5.000  \n309636            75.05        NaN        19.6                       1.380  \n309637            76.67        NaN        19.6                       5.000  \n309638            75.05        NaN        19.6                       1.380  \n\n[309639 rows x 37 columns]",
            "text/html": "<div>\n<style scoped>\n    .dataframe tbody tr th:only-of-type {\n        vertical-align: middle;\n    }\n\n    .dataframe tbody tr th {\n        vertical-align: top;\n    }\n\n    .dataframe thead th {\n        text-align: right;\n    }\n</style>\n<table border=\"1\" class=\"dataframe\">\n  <thead>\n    <tr style=\"text-align: right;\">\n      <th></th>\n      <th>iso_code</th>\n      <th>continent</th>\n      <th>location</th>\n      <th>date</th>\n      <th>population</th>\n      <th>total_cases</th>\n      <th>new_cases_smoothed</th>\n      <th>total_deaths</th>\n      <th>new_deaths</th>\n      <th>new_deaths_smoothed</th>\n      <th>...</th>\n      <th>positive_rate</th>\n      <th>population_density</th>\n      <th>aged_65_older</th>\n      <th>diabetes_prevalence</th>\n      <th>female_smokers</th>\n      <th>male_smokers</th>\n      <th>life_expectancy</th>\n      <th>new_cases</th>\n      <th>median_age</th>\n      <th>hospital_beds_per_thousand</th>\n    </tr>\n  </thead>\n  <tbody>\n    <tr>\n      <th>0</th>\n      <td>ABW</td>\n      <td>North America</td>\n      <td>Aruba</td>\n      <td>12/05/2023</td>\n      <td>1.064590e+05</td>\n      <td>NaN</td>\n      <td>NaN</td>\n      <td>NaN</td>\n      <td>NaN</td>\n      <td>NaN</td>\n      <td>...</td>\n      <td>NaN</td>\n      <td>584.800</td>\n      <td>13.085</td>\n      <td>11.62</td>\n      <td>NaN</td>\n      <td>NaN</td>\n      <td>76.29</td>\n      <td>NaN</td>\n      <td>18.6</td>\n      <td>NaN</td>\n    </tr>\n    <tr>\n      <th>1</th>\n      <td>OWID_ASI</td>\n      <td>NaN</td>\n      <td>Asia</td>\n      <td>12/05/2023</td>\n      <td>4.721383e+09</td>\n      <td>NaN</td>\n      <td>NaN</td>\n      <td>NaN</td>\n      <td>NaN</td>\n      <td>NaN</td>\n      <td>...</td>\n      <td>NaN</td>\n      <td>NaN</td>\n      <td>NaN</td>\n      <td>NaN</td>\n      <td>NaN</td>\n      <td>NaN</td>\n      <td>NaN</td>\n      <td>NaN</td>\n      <td>18.6</td>\n      <td>NaN</td>\n    </tr>\n    <tr>\n      <th>2</th>\n      <td>AUT</td>\n      <td>Europe</td>\n      <td>Austria</td>\n      <td>12/05/2023</td>\n      <td>8.939617e+06</td>\n      <td>NaN</td>\n      <td>NaN</td>\n      <td>NaN</td>\n      <td>NaN</td>\n      <td>NaN</td>\n      <td>...</td>\n      <td>NaN</td>\n      <td>106.749</td>\n      <td>19.202</td>\n      <td>6.35</td>\n      <td>28.4</td>\n      <td>30.9</td>\n      <td>81.54</td>\n      <td>NaN</td>\n      <td>18.6</td>\n      <td>7.370</td>\n    </tr>\n    <tr>\n      <th>3</th>\n      <td>BGR</td>\n      <td>Europe</td>\n      <td>Bulgaria</td>\n      <td>12/05/2023</td>\n      <td>6.781955e+06</td>\n      <td>NaN</td>\n      <td>NaN</td>\n      <td>NaN</td>\n      <td>NaN</td>\n      <td>NaN</td>\n      <td>...</td>\n      <td>NaN</td>\n      <td>65.180</td>\n      <td>20.801</td>\n      <td>5.81</td>\n      <td>30.1</td>\n      <td>44.4</td>\n      <td>75.05</td>\n      <td>NaN</td>\n      <td>18.6</td>\n      <td>7.454</td>\n    </tr>\n    <tr>\n      <th>4</th>\n      <td>CHL</td>\n      <td>South America</td>\n      <td>Chile</td>\n      <td>12/05/2023</td>\n      <td>1.960374e+07</td>\n      <td>NaN</td>\n      <td>NaN</td>\n      <td>NaN</td>\n      <td>NaN</td>\n      <td>NaN</td>\n      <td>...</td>\n      <td>NaN</td>\n      <td>24.282</td>\n      <td>11.087</td>\n      <td>8.46</td>\n      <td>34.2</td>\n      <td>41.5</td>\n      <td>80.18</td>\n      <td>NaN</td>\n      <td>18.6</td>\n      <td>2.110</td>\n    </tr>\n    <tr>\n      <th>...</th>\n      <td>...</td>\n      <td>...</td>\n      <td>...</td>\n      <td>...</td>\n      <td>...</td>\n      <td>...</td>\n      <td>...</td>\n      <td>...</td>\n      <td>...</td>\n      <td>...</td>\n      <td>...</td>\n      <td>...</td>\n      <td>...</td>\n      <td>...</td>\n      <td>...</td>\n      <td>...</td>\n      <td>...</td>\n      <td>...</td>\n      <td>...</td>\n      <td>...</td>\n      <td>...</td>\n    </tr>\n    <tr>\n      <th>309634</th>\n      <td>ZWE</td>\n      <td>Africa</td>\n      <td>Zimbabwe</td>\n      <td>03/01/2020</td>\n      <td>1.632054e+07</td>\n      <td>NaN</td>\n      <td>NaN</td>\n      <td>NaN</td>\n      <td>0.0</td>\n      <td>NaN</td>\n      <td>...</td>\n      <td>NaN</td>\n      <td>42.729</td>\n      <td>2.822</td>\n      <td>1.82</td>\n      <td>1.6</td>\n      <td>30.7</td>\n      <td>61.49</td>\n      <td>0.0</td>\n      <td>19.6</td>\n      <td>1.700</td>\n    </tr>\n    <tr>\n      <th>309635</th>\n      <td>ARG</td>\n      <td>South America</td>\n      <td>Argentina</td>\n      <td>02/01/2020</td>\n      <td>4.551032e+07</td>\n      <td>NaN</td>\n      <td>NaN</td>\n      <td>NaN</td>\n      <td>NaN</td>\n      <td>NaN</td>\n      <td>...</td>\n      <td>NaN</td>\n      <td>16.177</td>\n      <td>11.198</td>\n      <td>5.50</td>\n      <td>16.2</td>\n      <td>27.7</td>\n      <td>76.67</td>\n      <td>NaN</td>\n      <td>19.6</td>\n      <td>5.000</td>\n    </tr>\n    <tr>\n      <th>309636</th>\n      <td>MEX</td>\n      <td>North America</td>\n      <td>Mexico</td>\n      <td>02/01/2020</td>\n      <td>1.275041e+08</td>\n      <td>NaN</td>\n      <td>NaN</td>\n      <td>NaN</td>\n      <td>NaN</td>\n      <td>NaN</td>\n      <td>...</td>\n      <td>NaN</td>\n      <td>66.444</td>\n      <td>6.857</td>\n      <td>13.06</td>\n      <td>6.9</td>\n      <td>21.4</td>\n      <td>75.05</td>\n      <td>NaN</td>\n      <td>19.6</td>\n      <td>1.380</td>\n    </tr>\n    <tr>\n      <th>309637</th>\n      <td>ARG</td>\n      <td>South America</td>\n      <td>Argentina</td>\n      <td>01/01/2020</td>\n      <td>4.551032e+07</td>\n      <td>NaN</td>\n      <td>NaN</td>\n      <td>NaN</td>\n      <td>NaN</td>\n      <td>NaN</td>\n      <td>...</td>\n      <td>NaN</td>\n      <td>16.177</td>\n      <td>11.198</td>\n      <td>5.50</td>\n      <td>16.2</td>\n      <td>27.7</td>\n      <td>76.67</td>\n      <td>NaN</td>\n      <td>19.6</td>\n      <td>5.000</td>\n    </tr>\n    <tr>\n      <th>309638</th>\n      <td>MEX</td>\n      <td>North America</td>\n      <td>Mexico</td>\n      <td>01/01/2020</td>\n      <td>1.275041e+08</td>\n      <td>NaN</td>\n      <td>NaN</td>\n      <td>NaN</td>\n      <td>NaN</td>\n      <td>NaN</td>\n      <td>...</td>\n      <td>NaN</td>\n      <td>66.444</td>\n      <td>6.857</td>\n      <td>13.06</td>\n      <td>6.9</td>\n      <td>21.4</td>\n      <td>75.05</td>\n      <td>NaN</td>\n      <td>19.6</td>\n      <td>1.380</td>\n    </tr>\n  </tbody>\n</table>\n<p>309639 rows × 37 columns</p>\n</div>"
          },
          "metadata": {}
        }
      ]
    },
    {
      "cell_type": "code",
      "source": "#Observons toutes le nombre de valeurs null de chaque colonne de notre dataframe \ndf.isnull().sum()",
      "metadata": {
        "trusted": true
      },
      "execution_count": 3,
      "outputs": [
        {
          "execution_count": 3,
          "output_type": "execute_result",
          "data": {
            "text/plain": "iso_code                                   0\ncontinent                              14706\nlocation                                   0\ndate                                       0\npopulation                                 0\ntotal_cases                            36012\nnew_cases_smoothed                      9997\ntotal_deaths                           56663\nnew_deaths                              8639\nnew_deaths_smoothed                     9869\ntotal_cases_per_million                36012\nnew_cases_per_million                   8733\nnew_cases_smoothed_per_million          9997\ntotal_deaths_per_million               56663\nnew_deaths_per_million                  8639\nnew_deaths_smoothed_per_million         9869\nreproduction_rate                     124822\nicu_patients                          273738\nicu_patients_per_million              273738\nhosp_patients                         272957\nhosp_patients_per_million             272957\nweekly_icu_admissions                 300230\nweekly_icu_admissions_per_million     300230\nweekly_hosp_admissions                287831\nweekly_hosp_admissions_per_million    287831\ntotal_tests                           230252\nnew_tests                             234236\npositive_rate                         213712\npopulation_density                     46891\naged_65_older                          73819\ndiabetes_prevalence                    57478\nfemale_smokers                        129665\nmale_smokers                          132114\nlife_expectancy                        24884\nnew_cases                               8733\nmedian_age                             65276\nhospital_beds_per_thousand             97841\ndtype: int64"
          },
          "metadata": {}
        }
      ]
    },
    {
      "cell_type": "code",
      "source": "#supprimons toutes les valeurs null de continent\ndf.dropna(subset=['continent'], inplace=True)",
      "metadata": {
        "trusted": true
      },
      "execution_count": 4,
      "outputs": []
    },
    {
      "cell_type": "code",
      "source": "df.isnull().sum()",
      "metadata": {
        "trusted": true
      },
      "execution_count": 5,
      "outputs": [
        {
          "execution_count": 5,
          "output_type": "execute_result",
          "data": {
            "text/plain": "iso_code                                   0\ncontinent                                  0\nlocation                                   0\ndate                                       0\npopulation                                 0\ntotal_cases                            35776\nnew_cases_smoothed                      9919\ntotal_deaths                           56175\nnew_deaths                              8621\nnew_deaths_smoothed                     9791\ntotal_cases_per_million                35776\nnew_cases_per_million                   8715\nnew_cases_smoothed_per_million          9919\ntotal_deaths_per_million               56175\nnew_deaths_per_million                  8621\nnew_deaths_smoothed_per_million         9791\nreproduction_rate                     111192\nicu_patients                          259032\nicu_patients_per_million              259032\nhosp_patients                         258251\nhosp_patients_per_million             258251\nweekly_icu_admissions                 285524\nweekly_icu_admissions_per_million     285524\nweekly_hosp_admissions                273125\nweekly_hosp_admissions_per_million    273125\ntotal_tests                           215546\nnew_tests                             219530\npositive_rate                         199006\npopulation_density                     33411\naged_65_older                          60339\ndiabetes_prevalence                    43998\nfemale_smokers                        116185\nmale_smokers                          118634\nlife_expectancy                        11404\nnew_cases                               8715\nmedian_age                             62182\nhospital_beds_per_thousand             84361\ndtype: int64"
          },
          "metadata": {}
        }
      ]
    },
    {
      "cell_type": "code",
      "source": "#observons les types de nos colonnes\ndf.dtypes",
      "metadata": {
        "trusted": true
      },
      "execution_count": 6,
      "outputs": [
        {
          "execution_count": 6,
          "output_type": "execute_result",
          "data": {
            "text/plain": "iso_code                               object\ncontinent                              object\nlocation                               object\ndate                                   object\npopulation                            float64\ntotal_cases                           float64\nnew_cases_smoothed                    float64\ntotal_deaths                          float64\nnew_deaths                            float64\nnew_deaths_smoothed                   float64\ntotal_cases_per_million               float64\nnew_cases_per_million                 float64\nnew_cases_smoothed_per_million        float64\ntotal_deaths_per_million              float64\nnew_deaths_per_million                float64\nnew_deaths_smoothed_per_million       float64\nreproduction_rate                     float64\nicu_patients                          float64\nicu_patients_per_million              float64\nhosp_patients                         float64\nhosp_patients_per_million             float64\nweekly_icu_admissions                 float64\nweekly_icu_admissions_per_million     float64\nweekly_hosp_admissions                float64\nweekly_hosp_admissions_per_million    float64\ntotal_tests                           float64\nnew_tests                             float64\npositive_rate                         float64\npopulation_density                    float64\naged_65_older                         float64\ndiabetes_prevalence                   float64\nfemale_smokers                        float64\nmale_smokers                          float64\nlife_expectancy                       float64\nnew_cases                             float64\nmedian_age                            float64\nhospital_beds_per_thousand            float64\ndtype: object"
          },
          "metadata": {}
        }
      ]
    },
    {
      "cell_type": "code",
      "source": "# Tri des données par pays et date\ndf.sort_values(['location', 'date'], inplace=True)\n\n# Liste des colonnes numériques\nnumeric_columns = df.select_dtypes(include=['float64']).columns\n\n# Groupe par pays\ngrouped = df.groupby('location')\n\n# Boucle for pour remplacer les valeurs null\nfor col in numeric_columns:\n    if col.startswith('new'):\n        # Remplacement des valeurs null par 0 pour les colonnes commençant par 'new'\n        df[col].fillna(0, inplace=True)\n    else:\n        #remplacement des valeurs null par la valeur precedente ou suivante du meme pays\n        group_mask = df[col].isnull().groupby(df['location']).transform('any')\n        df[col] = df.groupby('location')[col].ffill().bfill().where(group_mask, df[col])\n\n# Affichage du DataFrame mis à jour\nprint(df.isnull().sum())\n",
      "metadata": {
        "trusted": true
      },
      "execution_count": 14,
      "outputs": [
        {
          "name": "stdout",
          "text": "iso_code                              0\ncontinent                             0\nlocation                              0\ndate                                  0\npopulation                            0\ntotal_cases                           0\nnew_cases_smoothed                    0\ntotal_deaths                          0\nnew_deaths                            0\nnew_deaths_smoothed                   0\ntotal_cases_per_million               0\nnew_cases_per_million                 0\nnew_cases_smoothed_per_million        0\ntotal_deaths_per_million              0\nnew_deaths_per_million                0\nnew_deaths_smoothed_per_million       0\nreproduction_rate                     0\nicu_patients                          0\nicu_patients_per_million              0\nhosp_patients                         0\nhosp_patients_per_million             0\nweekly_icu_admissions                 0\nweekly_icu_admissions_per_million     0\nweekly_hosp_admissions                0\nweekly_hosp_admissions_per_million    0\ntotal_tests                           0\nnew_tests                             0\npositive_rate                         0\npopulation_density                    0\naged_65_older                         0\ndiabetes_prevalence                   0\nfemale_smokers                        0\nmale_smokers                          0\nlife_expectancy                       0\nnew_cases                             0\nmedian_age                            0\nhospital_beds_per_thousand            0\ndtype: int64\n",
          "output_type": "stream"
        }
      ]
    },
    {
      "cell_type": "code",
      "source": "df",
      "metadata": {
        "trusted": true
      },
      "execution_count": 8,
      "outputs": [
        {
          "execution_count": 8,
          "output_type": "execute_result",
          "data": {
            "text/plain": "       iso_code continent     location        date  population  total_cases  \\\n217985      AFG      Asia  Afghanistan  01/01/2021  41128772.0      52513.0   \n125324      AFG      Asia  Afghanistan  01/01/2022  41128772.0     158059.0   \n32640       AFG      Asia  Afghanistan  01/01/2023  41128772.0     207579.0   \n302236      AFG      Asia  Afghanistan  01/02/2020  41128772.0     207579.0   \n210154      AFG      Asia  Afghanistan  01/02/2021  41128772.0      55059.0   \n...         ...       ...          ...         ...         ...          ...   \n141325      ZWE    Africa     Zimbabwe  31/10/2021  16320539.0     132954.0   \n48614       ZWE    Africa     Zimbabwe  31/10/2022  16320539.0     258169.0   \n218488      ZWE    Africa     Zimbabwe  31/12/2020  16320539.0      13625.0   \n125831      ZWE    Africa     Zimbabwe  31/12/2021  16320539.0     211728.0   \n33145       ZWE    Africa     Zimbabwe  31/12/2022  16320539.0     260100.0   \n\n        new_cases_smoothed  total_deaths  new_deaths  new_deaths_smoothed  \\\n217985             131.143        2201.0        12.0                9.429   \n125324              24.571        7356.0         0.0                1.143   \n32640               36.714        7849.0         0.0                0.571   \n302236               0.000        7849.0         0.0                0.000   \n210154              55.286        2404.0         4.0                2.714   \n...                    ...           ...         ...                  ...   \n141325              47.000        4677.0         2.0                1.286   \n48614               18.857        5610.0         0.0                0.000   \n218488             138.429         360.0         1.0                4.286   \n125831            1483.429        4997.0        30.0               20.286   \n33145               25.714        5637.0         1.0                0.286   \n\n        ...  positive_rate  population_density  aged_65_older  \\\n217985  ...         0.1395              54.422          2.581   \n125324  ...         0.1395              54.422          2.581   \n32640   ...         0.1395              54.422          2.581   \n302236  ...         0.1395              54.422          2.581   \n210154  ...         0.1395              54.422          2.581   \n...     ...            ...                 ...            ...   \n141325  ...         0.0154              42.729          2.822   \n48614   ...         0.0154              42.729          2.822   \n218488  ...         0.0952              42.729          2.822   \n125831  ...         0.2858              42.729          2.822   \n33145   ...         0.2858              42.729          2.822   \n\n        diabetes_prevalence  female_smokers  male_smokers  life_expectancy  \\\n217985                 9.59             7.1          51.2            64.83   \n125324                 9.59             7.1          51.2            64.83   \n32640                  9.59             7.1          51.2            64.83   \n302236                 9.59             7.1          51.2            64.83   \n210154                 9.59             7.1          51.2            64.83   \n...                     ...             ...           ...              ...   \n141325                 1.82             1.6          30.7            61.49   \n48614                  1.82             1.6          30.7            61.49   \n218488                 1.82             1.6          30.7            61.49   \n125831                 1.82             1.6          30.7            61.49   \n33145                  1.82             1.6          30.7            61.49   \n\n        new_cases  median_age  hospital_beds_per_thousand  \n217985      183.0        25.2                         0.5  \n125324        0.0        29.3                         0.5  \n32640        25.0        25.4                         0.5  \n302236        0.0        32.6                         0.5  \n210154       36.0        32.6                         0.5  \n...           ...         ...                         ...  \n141325       28.0        23.2                         1.7  \n48614       132.0        25.7                         1.7  \n218488      300.0        25.7                         1.7  \n125831     2073.0        29.3                         1.7  \n33145        41.0        29.3                         1.7  \n\n[294933 rows x 37 columns]",
            "text/html": "<div>\n<style scoped>\n    .dataframe tbody tr th:only-of-type {\n        vertical-align: middle;\n    }\n\n    .dataframe tbody tr th {\n        vertical-align: top;\n    }\n\n    .dataframe thead th {\n        text-align: right;\n    }\n</style>\n<table border=\"1\" class=\"dataframe\">\n  <thead>\n    <tr style=\"text-align: right;\">\n      <th></th>\n      <th>iso_code</th>\n      <th>continent</th>\n      <th>location</th>\n      <th>date</th>\n      <th>population</th>\n      <th>total_cases</th>\n      <th>new_cases_smoothed</th>\n      <th>total_deaths</th>\n      <th>new_deaths</th>\n      <th>new_deaths_smoothed</th>\n      <th>...</th>\n      <th>positive_rate</th>\n      <th>population_density</th>\n      <th>aged_65_older</th>\n      <th>diabetes_prevalence</th>\n      <th>female_smokers</th>\n      <th>male_smokers</th>\n      <th>life_expectancy</th>\n      <th>new_cases</th>\n      <th>median_age</th>\n      <th>hospital_beds_per_thousand</th>\n    </tr>\n  </thead>\n  <tbody>\n    <tr>\n      <th>217985</th>\n      <td>AFG</td>\n      <td>Asia</td>\n      <td>Afghanistan</td>\n      <td>01/01/2021</td>\n      <td>41128772.0</td>\n      <td>52513.0</td>\n      <td>131.143</td>\n      <td>2201.0</td>\n      <td>12.0</td>\n      <td>9.429</td>\n      <td>...</td>\n      <td>0.1395</td>\n      <td>54.422</td>\n      <td>2.581</td>\n      <td>9.59</td>\n      <td>7.1</td>\n      <td>51.2</td>\n      <td>64.83</td>\n      <td>183.0</td>\n      <td>25.2</td>\n      <td>0.5</td>\n    </tr>\n    <tr>\n      <th>125324</th>\n      <td>AFG</td>\n      <td>Asia</td>\n      <td>Afghanistan</td>\n      <td>01/01/2022</td>\n      <td>41128772.0</td>\n      <td>158059.0</td>\n      <td>24.571</td>\n      <td>7356.0</td>\n      <td>0.0</td>\n      <td>1.143</td>\n      <td>...</td>\n      <td>0.1395</td>\n      <td>54.422</td>\n      <td>2.581</td>\n      <td>9.59</td>\n      <td>7.1</td>\n      <td>51.2</td>\n      <td>64.83</td>\n      <td>0.0</td>\n      <td>29.3</td>\n      <td>0.5</td>\n    </tr>\n    <tr>\n      <th>32640</th>\n      <td>AFG</td>\n      <td>Asia</td>\n      <td>Afghanistan</td>\n      <td>01/01/2023</td>\n      <td>41128772.0</td>\n      <td>207579.0</td>\n      <td>36.714</td>\n      <td>7849.0</td>\n      <td>0.0</td>\n      <td>0.571</td>\n      <td>...</td>\n      <td>0.1395</td>\n      <td>54.422</td>\n      <td>2.581</td>\n      <td>9.59</td>\n      <td>7.1</td>\n      <td>51.2</td>\n      <td>64.83</td>\n      <td>25.0</td>\n      <td>25.4</td>\n      <td>0.5</td>\n    </tr>\n    <tr>\n      <th>302236</th>\n      <td>AFG</td>\n      <td>Asia</td>\n      <td>Afghanistan</td>\n      <td>01/02/2020</td>\n      <td>41128772.0</td>\n      <td>207579.0</td>\n      <td>0.000</td>\n      <td>7849.0</td>\n      <td>0.0</td>\n      <td>0.000</td>\n      <td>...</td>\n      <td>0.1395</td>\n      <td>54.422</td>\n      <td>2.581</td>\n      <td>9.59</td>\n      <td>7.1</td>\n      <td>51.2</td>\n      <td>64.83</td>\n      <td>0.0</td>\n      <td>32.6</td>\n      <td>0.5</td>\n    </tr>\n    <tr>\n      <th>210154</th>\n      <td>AFG</td>\n      <td>Asia</td>\n      <td>Afghanistan</td>\n      <td>01/02/2021</td>\n      <td>41128772.0</td>\n      <td>55059.0</td>\n      <td>55.286</td>\n      <td>2404.0</td>\n      <td>4.0</td>\n      <td>2.714</td>\n      <td>...</td>\n      <td>0.1395</td>\n      <td>54.422</td>\n      <td>2.581</td>\n      <td>9.59</td>\n      <td>7.1</td>\n      <td>51.2</td>\n      <td>64.83</td>\n      <td>36.0</td>\n      <td>32.6</td>\n      <td>0.5</td>\n    </tr>\n    <tr>\n      <th>...</th>\n      <td>...</td>\n      <td>...</td>\n      <td>...</td>\n      <td>...</td>\n      <td>...</td>\n      <td>...</td>\n      <td>...</td>\n      <td>...</td>\n      <td>...</td>\n      <td>...</td>\n      <td>...</td>\n      <td>...</td>\n      <td>...</td>\n      <td>...</td>\n      <td>...</td>\n      <td>...</td>\n      <td>...</td>\n      <td>...</td>\n      <td>...</td>\n      <td>...</td>\n      <td>...</td>\n    </tr>\n    <tr>\n      <th>141325</th>\n      <td>ZWE</td>\n      <td>Africa</td>\n      <td>Zimbabwe</td>\n      <td>31/10/2021</td>\n      <td>16320539.0</td>\n      <td>132954.0</td>\n      <td>47.000</td>\n      <td>4677.0</td>\n      <td>2.0</td>\n      <td>1.286</td>\n      <td>...</td>\n      <td>0.0154</td>\n      <td>42.729</td>\n      <td>2.822</td>\n      <td>1.82</td>\n      <td>1.6</td>\n      <td>30.7</td>\n      <td>61.49</td>\n      <td>28.0</td>\n      <td>23.2</td>\n      <td>1.7</td>\n    </tr>\n    <tr>\n      <th>48614</th>\n      <td>ZWE</td>\n      <td>Africa</td>\n      <td>Zimbabwe</td>\n      <td>31/10/2022</td>\n      <td>16320539.0</td>\n      <td>258169.0</td>\n      <td>18.857</td>\n      <td>5610.0</td>\n      <td>0.0</td>\n      <td>0.000</td>\n      <td>...</td>\n      <td>0.0154</td>\n      <td>42.729</td>\n      <td>2.822</td>\n      <td>1.82</td>\n      <td>1.6</td>\n      <td>30.7</td>\n      <td>61.49</td>\n      <td>132.0</td>\n      <td>25.7</td>\n      <td>1.7</td>\n    </tr>\n    <tr>\n      <th>218488</th>\n      <td>ZWE</td>\n      <td>Africa</td>\n      <td>Zimbabwe</td>\n      <td>31/12/2020</td>\n      <td>16320539.0</td>\n      <td>13625.0</td>\n      <td>138.429</td>\n      <td>360.0</td>\n      <td>1.0</td>\n      <td>4.286</td>\n      <td>...</td>\n      <td>0.0952</td>\n      <td>42.729</td>\n      <td>2.822</td>\n      <td>1.82</td>\n      <td>1.6</td>\n      <td>30.7</td>\n      <td>61.49</td>\n      <td>300.0</td>\n      <td>25.7</td>\n      <td>1.7</td>\n    </tr>\n    <tr>\n      <th>125831</th>\n      <td>ZWE</td>\n      <td>Africa</td>\n      <td>Zimbabwe</td>\n      <td>31/12/2021</td>\n      <td>16320539.0</td>\n      <td>211728.0</td>\n      <td>1483.429</td>\n      <td>4997.0</td>\n      <td>30.0</td>\n      <td>20.286</td>\n      <td>...</td>\n      <td>0.2858</td>\n      <td>42.729</td>\n      <td>2.822</td>\n      <td>1.82</td>\n      <td>1.6</td>\n      <td>30.7</td>\n      <td>61.49</td>\n      <td>2073.0</td>\n      <td>29.3</td>\n      <td>1.7</td>\n    </tr>\n    <tr>\n      <th>33145</th>\n      <td>ZWE</td>\n      <td>Africa</td>\n      <td>Zimbabwe</td>\n      <td>31/12/2022</td>\n      <td>16320539.0</td>\n      <td>260100.0</td>\n      <td>25.714</td>\n      <td>5637.0</td>\n      <td>1.0</td>\n      <td>0.286</td>\n      <td>...</td>\n      <td>0.2858</td>\n      <td>42.729</td>\n      <td>2.822</td>\n      <td>1.82</td>\n      <td>1.6</td>\n      <td>30.7</td>\n      <td>61.49</td>\n      <td>41.0</td>\n      <td>29.3</td>\n      <td>1.7</td>\n    </tr>\n  </tbody>\n</table>\n<p>294933 rows × 37 columns</p>\n</div>"
          },
          "metadata": {}
        }
      ]
    },
    {
      "cell_type": "code",
      "source": "#Telechargeons notre dataFrame et parcourons le pour savoir pourquoi certaines valeurs nuls n'ont pas été remplacées\n#df.to_csv('nouveau_fichier.csv', index=False)",
      "metadata": {
        "trusted": true
      },
      "execution_count": 9,
      "outputs": []
    },
    {
      "cell_type": "markdown",
      "source": "### Apre avoir telecharger notre dataFrame sous forme de fichier csv nous avons pu naviguer librement dans notre df et nous nous sommes rendu compte que la raison pour laquelle certaines valeurs null ne pouvaient pas etre remplacée par cette valeur non null du meme pays est que nous ces valeurs etaient toute null pour ce pays. Donc nous avons decidé de remplacer ces valeurs normalement positive par la valeur -1 pour indiquer qu'elles sont indisponible pour ce pays.\n",
      "metadata": {}
    },
    {
      "cell_type": "code",
      "source": "# Remplacement des valeurs null par -1\nfor col in numeric_columns:\n        df[col].fillna(-1, inplace=True)",
      "metadata": {
        "trusted": true
      },
      "execution_count": 10,
      "outputs": []
    },
    {
      "cell_type": "code",
      "source": "#visualisons les valeurs null\ndf.isnull().sum()",
      "metadata": {
        "trusted": true
      },
      "execution_count": 11,
      "outputs": [
        {
          "execution_count": 11,
          "output_type": "execute_result",
          "data": {
            "text/plain": "iso_code                              0\ncontinent                             0\nlocation                              0\ndate                                  0\npopulation                            0\ntotal_cases                           0\nnew_cases_smoothed                    0\ntotal_deaths                          0\nnew_deaths                            0\nnew_deaths_smoothed                   0\ntotal_cases_per_million               0\nnew_cases_per_million                 0\nnew_cases_smoothed_per_million        0\ntotal_deaths_per_million              0\nnew_deaths_per_million                0\nnew_deaths_smoothed_per_million       0\nreproduction_rate                     0\nicu_patients                          0\nicu_patients_per_million              0\nhosp_patients                         0\nhosp_patients_per_million             0\nweekly_icu_admissions                 0\nweekly_icu_admissions_per_million     0\nweekly_hosp_admissions                0\nweekly_hosp_admissions_per_million    0\ntotal_tests                           0\nnew_tests                             0\npositive_rate                         0\npopulation_density                    0\naged_65_older                         0\ndiabetes_prevalence                   0\nfemale_smokers                        0\nmale_smokers                          0\nlife_expectancy                       0\nnew_cases                             0\nmedian_age                            0\nhospital_beds_per_thousand            0\ndtype: int64"
          },
          "metadata": {}
        }
      ]
    },
    {
      "cell_type": "code",
      "source": "#visualisons si les valeurs ont bien été remplacées\ndf['weekly_icu_admissions_per_million'].tail()",
      "metadata": {
        "trusted": true
      },
      "execution_count": 12,
      "outputs": [
        {
          "execution_count": 12,
          "output_type": "execute_result",
          "data": {
            "text/plain": "141325   -1.0\n48614    -1.0\n218488   -1.0\n125831   -1.0\n33145    -1.0\nName: weekly_icu_admissions_per_million, dtype: float64"
          },
          "metadata": {}
        }
      ]
    },
    {
      "cell_type": "markdown",
      "source": "",
      "metadata": {}
    },
    {
      "cell_type": "code",
      "source": "",
      "metadata": {
        "trusted": true
      },
      "execution_count": null,
      "outputs": []
    },
    {
      "cell_type": "code",
      "source": "#recuperons notre nouvelles base de données netoyées\ndf.to_csv('coviddeaths2.csv', index=False)",
      "metadata": {
        "trusted": true
      },
      "execution_count": 13,
      "outputs": []
    },
    {
      "cell_type": "code",
      "source": "df.tail(100)",
      "metadata": {
        "trusted": true
      },
      "execution_count": null,
      "outputs": []
    },
    {
      "cell_type": "code",
      "source": "",
      "metadata": {},
      "execution_count": null,
      "outputs": []
    }
  ]
}