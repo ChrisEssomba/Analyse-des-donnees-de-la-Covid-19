{
  "metadata": {
    "language_info": {
      "codemirror_mode": {
        "name": "python",
        "version": 3
      },
      "file_extension": ".py",
      "mimetype": "text/x-python",
      "name": "python",
      "nbconvert_exporter": "python",
      "pygments_lexer": "ipython3",
      "version": "3.8"
    },
    "kernelspec": {
      "name": "python",
      "display_name": "Python (Pyodide)",
      "language": "python"
    }
  },
  "nbformat_minor": 4,
  "nbformat": 4,
  "cells": [
    {
      "cell_type": "markdown",
      "source": "#                                                       L'ETAPE 1 DE CE PROJET CONSISTE AU NETOYAGE DE NOTRE BASE DE DONNEES\n\n\n\n\n",
      "metadata": {}
    },
    {
      "cell_type": "code",
      "source": "#Importer les packages\nimport pandas as pd #Permet de mettre les données dans un dataframe et de les manipuler\nimport numpy as np ",
      "metadata": {
        "trusted": true
      },
      "execution_count": 1,
      "outputs": []
    },
    {
      "cell_type": "code",
      "source": "#Importer la base de donnée\n#Pour cela tu uplot le fichier et ensuite tu copie son nom et tu le met dans le fonction\ndf = pd.read_csv('covidVac.csv', sep=';')\ndf",
      "metadata": {
        "trusted": true
      },
      "execution_count": 2,
      "outputs": [
        {
          "execution_count": 2,
          "output_type": "execute_result",
          "data": {
            "text/plain": "       iso_code continent     location        date  total_tests  new_tests  \\\n0           AFG      Asia  Afghanistan  03/01/2020          NaN        NaN   \n1           AFG      Asia  Afghanistan  04/01/2020          NaN        NaN   \n2           AFG      Asia  Afghanistan  05/01/2020          NaN        NaN   \n3           AFG      Asia  Afghanistan  06/01/2020          NaN        NaN   \n4           AFG      Asia  Afghanistan  07/01/2020          NaN        NaN   \n...         ...       ...          ...         ...          ...        ...   \n309634      ZWE    Africa     Zimbabwe  06/05/2023          NaN        NaN   \n309635      ZWE    Africa     Zimbabwe  07/05/2023          NaN        NaN   \n309636      ZWE    Africa     Zimbabwe  08/05/2023          NaN        NaN   \n309637      ZWE    Africa     Zimbabwe  09/05/2023          NaN        NaN   \n309638      ZWE    Africa     Zimbabwe  10/05/2023          NaN        NaN   \n\n        total_tests_per_thousand  new_tests_per_thousand  new_tests_smoothed  \\\n0                            NaN                     NaN                 NaN   \n1                            NaN                     NaN                 NaN   \n2                            NaN                     NaN                 NaN   \n3                            NaN                     NaN                 NaN   \n4                            NaN                     NaN                 NaN   \n...                          ...                     ...                 ...   \n309634                       NaN                     NaN                 NaN   \n309635                       NaN                     NaN                 NaN   \n309636                       NaN                     NaN                 NaN   \n309637                       NaN                     NaN                 NaN   \n309638                       NaN                     NaN                 NaN   \n\n        new_tests_smoothed_per_thousand  ...  aged_70_older  extreme_poverty  \\\n0                                   NaN  ...          1.337              NaN   \n1                                   NaN  ...          1.337              NaN   \n2                                   NaN  ...          1.337              NaN   \n3                                   NaN  ...          1.337              NaN   \n4                                   NaN  ...          1.337              NaN   \n...                                 ...  ...            ...              ...   \n309634                              NaN  ...          1.882             21.4   \n309635                              NaN  ...          1.882             21.4   \n309636                              NaN  ...          1.882             21.4   \n309637                              NaN  ...          1.882             21.4   \n309638                              NaN  ...          1.882             21.4   \n\n       cardiovasc_death_rate  diabetes_prevalence  female_smokers  \\\n0                    597.029                 9.59             NaN   \n1                    597.029                 9.59             NaN   \n2                    597.029                 9.59             NaN   \n3                    597.029                 9.59             NaN   \n4                    597.029                 9.59             NaN   \n...                      ...                  ...             ...   \n309634               307.846                 1.82             1.6   \n309635               307.846                 1.82             1.6   \n309636               307.846                 1.82             1.6   \n309637               307.846                 1.82             1.6   \n309638               307.846                 1.82             1.6   \n\n        male_smokers  handwashing_facilities  hospital_beds_per_thousand  \\\n0                NaN                  37.746                         0.5   \n1                NaN                  37.746                         0.5   \n2                NaN                  37.746                         0.5   \n3                NaN                  37.746                         0.5   \n4                NaN                  37.746                         0.5   \n...              ...                     ...                         ...   \n309634          30.7                  36.791                         1.7   \n309635          30.7                  36.791                         1.7   \n309636          30.7                  36.791                         1.7   \n309637          30.7                  36.791                         1.7   \n309638          30.7                  36.791                         1.7   \n\n        life_expectancy  human_development_index  \n0                 64.83                    0.511  \n1                 64.83                    0.511  \n2                 64.83                    0.511  \n3                 64.83                    0.511  \n4                 64.83                    0.511  \n...                 ...                      ...  \n309634            61.49                    0.571  \n309635            61.49                    0.571  \n309636            61.49                    0.571  \n309637            61.49                    0.571  \n309638            61.49                    0.571  \n\n[309639 rows x 38 columns]",
            "text/html": "<div>\n<style scoped>\n    .dataframe tbody tr th:only-of-type {\n        vertical-align: middle;\n    }\n\n    .dataframe tbody tr th {\n        vertical-align: top;\n    }\n\n    .dataframe thead th {\n        text-align: right;\n    }\n</style>\n<table border=\"1\" class=\"dataframe\">\n  <thead>\n    <tr style=\"text-align: right;\">\n      <th></th>\n      <th>iso_code</th>\n      <th>continent</th>\n      <th>location</th>\n      <th>date</th>\n      <th>total_tests</th>\n      <th>new_tests</th>\n      <th>total_tests_per_thousand</th>\n      <th>new_tests_per_thousand</th>\n      <th>new_tests_smoothed</th>\n      <th>new_tests_smoothed_per_thousand</th>\n      <th>...</th>\n      <th>aged_70_older</th>\n      <th>extreme_poverty</th>\n      <th>cardiovasc_death_rate</th>\n      <th>diabetes_prevalence</th>\n      <th>female_smokers</th>\n      <th>male_smokers</th>\n      <th>handwashing_facilities</th>\n      <th>hospital_beds_per_thousand</th>\n      <th>life_expectancy</th>\n      <th>human_development_index</th>\n    </tr>\n  </thead>\n  <tbody>\n    <tr>\n      <th>0</th>\n      <td>AFG</td>\n      <td>Asia</td>\n      <td>Afghanistan</td>\n      <td>03/01/2020</td>\n      <td>NaN</td>\n      <td>NaN</td>\n      <td>NaN</td>\n      <td>NaN</td>\n      <td>NaN</td>\n      <td>NaN</td>\n      <td>...</td>\n      <td>1.337</td>\n      <td>NaN</td>\n      <td>597.029</td>\n      <td>9.59</td>\n      <td>NaN</td>\n      <td>NaN</td>\n      <td>37.746</td>\n      <td>0.5</td>\n      <td>64.83</td>\n      <td>0.511</td>\n    </tr>\n    <tr>\n      <th>1</th>\n      <td>AFG</td>\n      <td>Asia</td>\n      <td>Afghanistan</td>\n      <td>04/01/2020</td>\n      <td>NaN</td>\n      <td>NaN</td>\n      <td>NaN</td>\n      <td>NaN</td>\n      <td>NaN</td>\n      <td>NaN</td>\n      <td>...</td>\n      <td>1.337</td>\n      <td>NaN</td>\n      <td>597.029</td>\n      <td>9.59</td>\n      <td>NaN</td>\n      <td>NaN</td>\n      <td>37.746</td>\n      <td>0.5</td>\n      <td>64.83</td>\n      <td>0.511</td>\n    </tr>\n    <tr>\n      <th>2</th>\n      <td>AFG</td>\n      <td>Asia</td>\n      <td>Afghanistan</td>\n      <td>05/01/2020</td>\n      <td>NaN</td>\n      <td>NaN</td>\n      <td>NaN</td>\n      <td>NaN</td>\n      <td>NaN</td>\n      <td>NaN</td>\n      <td>...</td>\n      <td>1.337</td>\n      <td>NaN</td>\n      <td>597.029</td>\n      <td>9.59</td>\n      <td>NaN</td>\n      <td>NaN</td>\n      <td>37.746</td>\n      <td>0.5</td>\n      <td>64.83</td>\n      <td>0.511</td>\n    </tr>\n    <tr>\n      <th>3</th>\n      <td>AFG</td>\n      <td>Asia</td>\n      <td>Afghanistan</td>\n      <td>06/01/2020</td>\n      <td>NaN</td>\n      <td>NaN</td>\n      <td>NaN</td>\n      <td>NaN</td>\n      <td>NaN</td>\n      <td>NaN</td>\n      <td>...</td>\n      <td>1.337</td>\n      <td>NaN</td>\n      <td>597.029</td>\n      <td>9.59</td>\n      <td>NaN</td>\n      <td>NaN</td>\n      <td>37.746</td>\n      <td>0.5</td>\n      <td>64.83</td>\n      <td>0.511</td>\n    </tr>\n    <tr>\n      <th>4</th>\n      <td>AFG</td>\n      <td>Asia</td>\n      <td>Afghanistan</td>\n      <td>07/01/2020</td>\n      <td>NaN</td>\n      <td>NaN</td>\n      <td>NaN</td>\n      <td>NaN</td>\n      <td>NaN</td>\n      <td>NaN</td>\n      <td>...</td>\n      <td>1.337</td>\n      <td>NaN</td>\n      <td>597.029</td>\n      <td>9.59</td>\n      <td>NaN</td>\n      <td>NaN</td>\n      <td>37.746</td>\n      <td>0.5</td>\n      <td>64.83</td>\n      <td>0.511</td>\n    </tr>\n    <tr>\n      <th>...</th>\n      <td>...</td>\n      <td>...</td>\n      <td>...</td>\n      <td>...</td>\n      <td>...</td>\n      <td>...</td>\n      <td>...</td>\n      <td>...</td>\n      <td>...</td>\n      <td>...</td>\n      <td>...</td>\n      <td>...</td>\n      <td>...</td>\n      <td>...</td>\n      <td>...</td>\n      <td>...</td>\n      <td>...</td>\n      <td>...</td>\n      <td>...</td>\n      <td>...</td>\n      <td>...</td>\n    </tr>\n    <tr>\n      <th>309634</th>\n      <td>ZWE</td>\n      <td>Africa</td>\n      <td>Zimbabwe</td>\n      <td>06/05/2023</td>\n      <td>NaN</td>\n      <td>NaN</td>\n      <td>NaN</td>\n      <td>NaN</td>\n      <td>NaN</td>\n      <td>NaN</td>\n      <td>...</td>\n      <td>1.882</td>\n      <td>21.4</td>\n      <td>307.846</td>\n      <td>1.82</td>\n      <td>1.6</td>\n      <td>30.7</td>\n      <td>36.791</td>\n      <td>1.7</td>\n      <td>61.49</td>\n      <td>0.571</td>\n    </tr>\n    <tr>\n      <th>309635</th>\n      <td>ZWE</td>\n      <td>Africa</td>\n      <td>Zimbabwe</td>\n      <td>07/05/2023</td>\n      <td>NaN</td>\n      <td>NaN</td>\n      <td>NaN</td>\n      <td>NaN</td>\n      <td>NaN</td>\n      <td>NaN</td>\n      <td>...</td>\n      <td>1.882</td>\n      <td>21.4</td>\n      <td>307.846</td>\n      <td>1.82</td>\n      <td>1.6</td>\n      <td>30.7</td>\n      <td>36.791</td>\n      <td>1.7</td>\n      <td>61.49</td>\n      <td>0.571</td>\n    </tr>\n    <tr>\n      <th>309636</th>\n      <td>ZWE</td>\n      <td>Africa</td>\n      <td>Zimbabwe</td>\n      <td>08/05/2023</td>\n      <td>NaN</td>\n      <td>NaN</td>\n      <td>NaN</td>\n      <td>NaN</td>\n      <td>NaN</td>\n      <td>NaN</td>\n      <td>...</td>\n      <td>1.882</td>\n      <td>21.4</td>\n      <td>307.846</td>\n      <td>1.82</td>\n      <td>1.6</td>\n      <td>30.7</td>\n      <td>36.791</td>\n      <td>1.7</td>\n      <td>61.49</td>\n      <td>0.571</td>\n    </tr>\n    <tr>\n      <th>309637</th>\n      <td>ZWE</td>\n      <td>Africa</td>\n      <td>Zimbabwe</td>\n      <td>09/05/2023</td>\n      <td>NaN</td>\n      <td>NaN</td>\n      <td>NaN</td>\n      <td>NaN</td>\n      <td>NaN</td>\n      <td>NaN</td>\n      <td>...</td>\n      <td>1.882</td>\n      <td>21.4</td>\n      <td>307.846</td>\n      <td>1.82</td>\n      <td>1.6</td>\n      <td>30.7</td>\n      <td>36.791</td>\n      <td>1.7</td>\n      <td>61.49</td>\n      <td>0.571</td>\n    </tr>\n    <tr>\n      <th>309638</th>\n      <td>ZWE</td>\n      <td>Africa</td>\n      <td>Zimbabwe</td>\n      <td>10/05/2023</td>\n      <td>NaN</td>\n      <td>NaN</td>\n      <td>NaN</td>\n      <td>NaN</td>\n      <td>NaN</td>\n      <td>NaN</td>\n      <td>...</td>\n      <td>1.882</td>\n      <td>21.4</td>\n      <td>307.846</td>\n      <td>1.82</td>\n      <td>1.6</td>\n      <td>30.7</td>\n      <td>36.791</td>\n      <td>1.7</td>\n      <td>61.49</td>\n      <td>0.571</td>\n    </tr>\n  </tbody>\n</table>\n<p>309639 rows × 38 columns</p>\n</div>"
          },
          "metadata": {}
        }
      ]
    },
    {
      "cell_type": "code",
      "source": "#Observons toutes le nombre de valeurs null de chaque colonne de notre dataframe \ndf.isnull().sum()",
      "metadata": {
        "trusted": true
      },
      "execution_count": 3,
      "outputs": [
        {
          "execution_count": 3,
          "output_type": "execute_result",
          "data": {
            "text/plain": "iso_code                                           0\ncontinent                                      14706\nlocation                                           0\ndate                                               0\ntotal_tests                                   230252\nnew_tests                                     234236\ntotal_tests_per_thousand                      230252\nnew_tests_per_thousand                        234236\nnew_tests_smoothed                            205674\nnew_tests_smoothed_per_thousand               205674\npositive_rate                                 213712\ntests_per_case                                215291\ntests_units                                   202851\ntotal_vaccinations                            234896\npeople_vaccinated                             238049\npeople_fully_vaccinated                       240282\nnew_vaccinations                              248129\nnew_vaccinations_smoothed                     142452\ntotal_vaccinations_per_hundred                234896\npeople_vaccinated_per_hundred                 238049\npeople_fully_vaccinated_per_hundred           240282\nnew_vaccinations_smoothed_per_million         142452\nnew_people_vaccinated_smoothed                142481\nnew_people_vaccinated_smoothed_per_hundred    142481\nstringency_index                              116445\npopulation_density                             46891\nmedian_age                                     65276\naged_65_older                                  73819\naged_70_older                                  67726\nextreme_poverty                               155378\ncardiovasc_death_rate                          69715\ndiabetes_prevalence                            57478\nfemale_smokers                                129665\nmale_smokers                                  132114\nhandwashing_facilities                        192125\nhospital_beds_per_thousand                     97841\nlife_expectancy                                24884\nhuman_development_index                        77064\ndtype: int64"
          },
          "metadata": {}
        }
      ]
    },
    {
      "cell_type": "code",
      "source": "#supprimons toutes les valeurs null de continent\ndf.dropna(subset=['continent'], inplace=True)",
      "metadata": {
        "trusted": true
      },
      "execution_count": 4,
      "outputs": []
    },
    {
      "cell_type": "code",
      "source": "df.isnull().sum()",
      "metadata": {
        "trusted": true
      },
      "execution_count": 5,
      "outputs": [
        {
          "execution_count": 5,
          "output_type": "execute_result",
          "data": {
            "text/plain": "iso_code                                           0\ncontinent                                          0\nlocation                                           0\ndate                                               0\ntotal_tests                                   215546\nnew_tests                                     219530\ntotal_tests_per_thousand                      215546\nnew_tests_per_thousand                        219530\nnew_tests_smoothed                            190968\nnew_tests_smoothed_per_thousand               190968\npositive_rate                                 199006\ntests_per_case                                200585\ntests_units                                   188145\ntotal_vaccinations                            230604\npeople_vaccinated                             233757\npeople_fully_vaccinated                       235810\nnew_vaccinations                              243778\nnew_vaccinations_smoothed                     138101\ntotal_vaccinations_per_hundred                230604\npeople_vaccinated_per_hundred                 233757\npeople_fully_vaccinated_per_hundred           235810\nnew_vaccinations_smoothed_per_million         138101\nnew_people_vaccinated_smoothed                138130\nnew_people_vaccinated_smoothed_per_hundred    138130\nstringency_index                              101739\npopulation_density                             33411\nmedian_age                                     51796\naged_65_older                                  60339\naged_70_older                                  54246\nextreme_poverty                               141898\ncardiovasc_death_rate                          56235\ndiabetes_prevalence                            43998\nfemale_smokers                                116185\nmale_smokers                                  118634\nhandwashing_facilities                        178645\nhospital_beds_per_thousand                     84361\nlife_expectancy                                11404\nhuman_development_index                        63584\ndtype: int64"
          },
          "metadata": {}
        }
      ]
    },
    {
      "cell_type": "code",
      "source": "#observons les types de nos colonnes\ndf.dtypes",
      "metadata": {
        "trusted": true
      },
      "execution_count": 6,
      "outputs": [
        {
          "execution_count": 6,
          "output_type": "execute_result",
          "data": {
            "text/plain": "iso_code                                       object\ncontinent                                      object\nlocation                                       object\ndate                                           object\ntotal_tests                                   float64\nnew_tests                                     float64\ntotal_tests_per_thousand                      float64\nnew_tests_per_thousand                        float64\nnew_tests_smoothed                            float64\nnew_tests_smoothed_per_thousand               float64\npositive_rate                                 float64\ntests_per_case                                float64\ntests_units                                    object\ntotal_vaccinations                            float64\npeople_vaccinated                             float64\npeople_fully_vaccinated                       float64\nnew_vaccinations                              float64\nnew_vaccinations_smoothed                     float64\ntotal_vaccinations_per_hundred                float64\npeople_vaccinated_per_hundred                 float64\npeople_fully_vaccinated_per_hundred           float64\nnew_vaccinations_smoothed_per_million         float64\nnew_people_vaccinated_smoothed                float64\nnew_people_vaccinated_smoothed_per_hundred    float64\nstringency_index                              float64\npopulation_density                            float64\nmedian_age                                    float64\naged_65_older                                 float64\naged_70_older                                 float64\nextreme_poverty                               float64\ncardiovasc_death_rate                         float64\ndiabetes_prevalence                           float64\nfemale_smokers                                float64\nmale_smokers                                  float64\nhandwashing_facilities                        float64\nhospital_beds_per_thousand                    float64\nlife_expectancy                               float64\nhuman_development_index                       float64\ndtype: object"
          },
          "metadata": {}
        }
      ]
    },
    {
      "cell_type": "code",
      "source": "# Tri des données par pays et date\ndf.sort_values(['location', 'date'], inplace=True)\n\n# Liste des colonnes numériques\nnumeric_columns = df.select_dtypes(include=['float64']).columns\n\n# Groupe par pays\ngrouped = df.groupby('location')\n\n# Boucle for pour remplacer les valeurs null\nfor col in df:\n    if col.startswith('new'):\n        # Remplacement des valeurs null par 0 pour les colonnes commençant par 'new'\n        df[col].fillna(0, inplace=True)\n    else:\n        #remplacement des valeurs null par la valeur precedente ou suivante du meme pays\n        group_mask = df[col].isnull().groupby(df['location']).transform('any')\n        df[col] = df.groupby('location')[col].ffill().bfill().where(group_mask, df[col])\n\n# Affichage du DataFrame mis à jour\nprint(df.isnull().sum())\n",
      "metadata": {
        "trusted": true
      },
      "execution_count": 7,
      "outputs": [
        {
          "name": "stdout",
          "text": "iso_code                                      0\ncontinent                                     0\nlocation                                      0\ndate                                          0\ntotal_tests                                   0\nnew_tests                                     0\ntotal_tests_per_thousand                      0\nnew_tests_per_thousand                        0\nnew_tests_smoothed                            0\nnew_tests_smoothed_per_thousand               0\npositive_rate                                 0\ntests_per_case                                0\ntests_units                                   0\ntotal_vaccinations                            0\npeople_vaccinated                             0\npeople_fully_vaccinated                       0\nnew_vaccinations                              0\nnew_vaccinations_smoothed                     0\ntotal_vaccinations_per_hundred                0\npeople_vaccinated_per_hundred                 0\npeople_fully_vaccinated_per_hundred           0\nnew_vaccinations_smoothed_per_million         0\nnew_people_vaccinated_smoothed                0\nnew_people_vaccinated_smoothed_per_hundred    0\nstringency_index                              0\npopulation_density                            0\nmedian_age                                    0\naged_65_older                                 0\naged_70_older                                 0\nextreme_poverty                               0\ncardiovasc_death_rate                         0\ndiabetes_prevalence                           0\nfemale_smokers                                0\nmale_smokers                                  0\nhandwashing_facilities                        0\nhospital_beds_per_thousand                    0\nlife_expectancy                               0\nhuman_development_index                       0\ndtype: int64\n",
          "output_type": "stream"
        }
      ]
    },
    {
      "cell_type": "code",
      "source": "#recuperons notre nouvelles base de données netoyées\ndf.to_csv('covidVac2.csv', index=False)",
      "metadata": {
        "trusted": true
      },
      "execution_count": 8,
      "outputs": []
    },
    {
      "cell_type": "code",
      "source": "",
      "metadata": {},
      "execution_count": null,
      "outputs": []
    }
  ]
}